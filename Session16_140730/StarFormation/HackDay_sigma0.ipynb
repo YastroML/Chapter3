{
 "metadata": {
  "name": ""
 },
 "nbformat": 3,
 "nbformat_minor": 0,
 "worksheets": [
  {
   "cells": [
    {
     "cell_type": "code",
     "collapsed": false,
     "input": [
      "import numpy as np\n",
      "import pickle\n",
      "import matplotlib.pyplot as plt"
     ],
     "language": "python",
     "metadata": {},
     "outputs": []
    },
    {
     "cell_type": "code",
     "collapsed": false,
     "input": [
      "cl1 = open('cluster1.pkl','rb')\n",
      "vels1,errs1 = pickle.load(cl1)\n",
      "cl2 = open('cluster2.pkl','rb')\n",
      "vels2,errs2 = pickle.load(cl2)"
     ],
     "language": "python",
     "metadata": {},
     "outputs": []
    },
    {
     "cell_type": "code",
     "collapsed": false,
     "input": [
      "plt.errorbar(np.arange(len(vels1)),vels1,yerr=errs1,fmt='ko')\n",
      "plt.ylabel(\"Radial Velocity [km/s]\")\n",
      "plt.xlabel(\"Index\")"
     ],
     "language": "python",
     "metadata": {},
     "outputs": []
    },
    {
     "cell_type": "code",
     "collapsed": false,
     "input": [
      "plt.errorbar(np.arange(len(vels2)),vels2,yerr=errs2,fmt='ko')\n",
      "plt.ylabel(\"Radial Velocity [km/s]\")\n",
      "plt.xlabel(\"Index\")"
     ],
     "language": "python",
     "metadata": {},
     "outputs": []
    },
    {
     "cell_type": "heading",
     "level": 3,
     "metadata": {},
     "source": [
      "Determine intrinsic velocity dispersion from noisy, heteroskedastic data with outliers"
     ]
    },
    {
     "cell_type": "markdown",
     "metadata": {},
     "source": [
      "Assume the velocity distribution is intrinsically Gaussian with some unknown level of outliers\n",
      "\n",
      "* Trim and use robust dispersion measure (MAD/Sigma_G)\n",
      "* Use astroML (pp 204-205) analytic approximation\n",
      "* Do full Bayesian analysis with identification of outliers."
     ]
    },
    {
     "cell_type": "code",
     "collapsed": false,
     "input": [
      "from astroML import stats\n"
     ],
     "language": "python",
     "metadata": {},
     "outputs": []
    },
    {
     "cell_type": "code",
     "collapsed": false,
     "input": [
      "def analytic_sigma0(data):\n",
      "    vels,errs = data\n",
      "    sigmaG = stats.sigmaG(vels)\n",
      "    e50 = np.median(errs)\n",
      "    sigi = np.sqrt(sigmaG**2+errs**2-e50**2)\n",
      "    zeta = np.median(sigi)/np.mean(sigi)\n",
      "    sigma0 = np.sqrt(zeta**2*sigmaG**2-e50**2)\n",
      "    return(sigma0)"
     ],
     "language": "python",
     "metadata": {},
     "outputs": []
    },
    {
     "cell_type": "code",
     "collapsed": false,
     "input": [
      "print(analytic_sigma0((vels1,errs1)))\n",
      "print(analytic_sigma0((vels2,errs2)))"
     ],
     "language": "python",
     "metadata": {},
     "outputs": []
    },
    {
     "cell_type": "code",
     "collapsed": false,
     "input": [
      "def mad(arr):\n",
      "    arr = np.ma.array(arr).compressed() # should be faster to not use masked arrays.\n",
      "    med = np.median(arr)\n",
      "    return 1.4826*np.median(np.abs(arr - med))\n"
     ],
     "language": "python",
     "metadata": {},
     "outputs": []
    },
    {
     "cell_type": "code",
     "collapsed": false,
     "input": [
      "def trim_and_robust(vels,errs,func):\n",
      "    err_trim = 0.5\n",
      "    vels = vels[errs < err_trim]\n",
      "    errs = errs[errs < err_trim]\n",
      "    return(func(vels))"
     ],
     "language": "python",
     "metadata": {},
     "outputs": []
    },
    {
     "cell_type": "code",
     "collapsed": false,
     "input": [
      "print(len(vels1[errs1 > 0.5]))\n",
      "print(len(vels2[errs2 > 0.5]))"
     ],
     "language": "python",
     "metadata": {},
     "outputs": []
    },
    {
     "cell_type": "code",
     "collapsed": false,
     "input": [
      "mad_res = trim_and_robust(vels1,errs1,mad)\n",
      "sigmaG_res = trim_and_robust(vels1,errs1,stats.sigmaG)\n",
      "print(mad_res,sigmaG_res)"
     ],
     "language": "python",
     "metadata": {},
     "outputs": []
    },
    {
     "cell_type": "code",
     "collapsed": false,
     "input": [
      "mad_res = trim_and_robust(vels2,errs2,mad)\n",
      "sigmaG_res = trim_and_robust(vels2,errs2,stats.sigmaG)\n",
      "print(mad_res,sigmaG_res)"
     ],
     "language": "python",
     "metadata": {},
     "outputs": []
    },
    {
     "cell_type": "code",
     "collapsed": false,
     "input": [
      "def bootstrap(vel,err,func,nboot=10000,func2=None):\n",
      "    sboot = np.zeros(nboot)\n",
      "    N = np.size(vel)\n",
      "    for i in range(nboot):\n",
      "        ind = np.random.randint(N,size=N)\n",
      "        if func2:\n",
      "            sboot[i] = func(vel[ind],err[ind],func2)\n",
      "        else:\n",
      "            sboot[i] = func(vel[ind],err[ind])\n",
      "    return(sboot)"
     ],
     "language": "python",
     "metadata": {},
     "outputs": []
    },
    {
     "cell_type": "code",
     "collapsed": false,
     "input": [
      "sboot1 = bootstrap(vels1,errs1,trim_and_robust,func2=mad)\n",
      "sboot2 = bootstrap(vels2,errs2,trim_and_robust,func2=mad)"
     ],
     "language": "python",
     "metadata": {},
     "outputs": []
    },
    {
     "cell_type": "code",
     "collapsed": false,
     "input": [
      "print(np.percentile(sboot1,5),np.percentile(sboot1,50),np.percentile(sboot1,95))\n",
      "print(np.percentile(sboot2,5),np.percentile(sboot2,50),np.percentile(sboot2,95))"
     ],
     "language": "python",
     "metadata": {},
     "outputs": []
    },
    {
     "cell_type": "code",
     "collapsed": false,
     "input": [
      "hist(sboot1,bins=50)[-1]"
     ],
     "language": "python",
     "metadata": {},
     "outputs": []
    },
    {
     "cell_type": "code",
     "collapsed": false,
     "input": [
      "hist(sboot2,bins=50)[-1]"
     ],
     "language": "python",
     "metadata": {},
     "outputs": []
    },
    {
     "cell_type": "code",
     "collapsed": false,
     "input": [],
     "language": "python",
     "metadata": {},
     "outputs": []
    }
   ],
   "metadata": {}
  }
 ]
}