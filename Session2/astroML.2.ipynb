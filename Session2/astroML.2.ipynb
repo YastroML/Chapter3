{
 "metadata": {
  "name": ""
 },
 "nbformat": 3,
 "nbformat_minor": 0,
 "worksheets": [
  {
   "cells": [
    {
     "cell_type": "heading",
     "level": 1,
     "metadata": {
      "slideshow": {
       "slide_type": "notes"
      }
     },
     "source": [
      "Sorting Python Arrays"
     ]
    },
    {
     "cell_type": "heading",
     "level": 4,
     "metadata": {},
     "source": [
      "We often store and work on data in arrays. Luckily, Numpy has some handy and efficent ways of performing operations on arrays. Lets see afew"
     ]
    },
    {
     "cell_type": "code",
     "collapsed": false,
     "input": [
      "#In this example, we will use np.sort()\n",
      "#to sort through a numpy array and see how long it takes \n",
      "import numpy as np\n",
      "#lets make an array and fill it with many random numbers\n",
      "A=np.random.rand(1E4)\n",
      "#the '%time' part tells us how long the command takes to execute\n",
      "%time A.sort()\n",
      "#lets try arrays of different sizes, and see how the time to complete varies\n",
      "x=np.random.rand(1E5)\n",
      "y=np.random.rand(1E6)\n",
      "z=np.random.rand(1E7)"
     ],
     "language": "python",
     "metadata": {},
     "outputs": [
      {
       "output_type": "stream",
       "stream": "stdout",
       "text": [
        "CPU times: user 1.28 ms, sys: 323 \u00b5s, total: 1.6 ms\n",
        "Wall time: 943 \u00b5s\n"
       ]
      }
     ],
     "prompt_number": 1
    },
    {
     "cell_type": "heading",
     "level": 1,
     "metadata": {},
     "source": [
      "Fast and Furious N: 2 Fast 2 many indicies"
     ]
    },
    {
     "cell_type": "heading",
     "level": 4,
     "metadata": {},
     "source": [
      "Okay, lets see whos computer can do these sorts quickest. Ready, set, GO!"
     ]
    },
    {
     "cell_type": "code",
     "collapsed": false,
     "input": [
      "%time x.sort()\n",
      "%time y.sort()\n",
      "%time z.sort()"
     ],
     "language": "python",
     "metadata": {},
     "outputs": [
      {
       "output_type": "stream",
       "stream": "stdout",
       "text": [
        "CPU times: user 10.6 ms, sys: 523 \u00b5s, total: 11.1 ms\n",
        "Wall time: 10.3 ms\n",
        "CPU times: user 119 ms, sys: 390 \u00b5s, total: 120 ms"
       ]
      },
      {
       "output_type": "stream",
       "stream": "stdout",
       "text": [
        "\n",
        "Wall time: 120 ms\n",
        "CPU times: user 1.32 s, sys: 2.88 ms, total: 1.33 s"
       ]
      },
      {
       "output_type": "stream",
       "stream": "stdout",
       "text": [
        "\n",
        "Wall time: 1.33 s\n"
       ]
      }
     ],
     "prompt_number": 2
    },
    {
     "cell_type": "heading",
     "level": 4,
     "metadata": {},
     "source": [
      "how does your compute time scale? does it look linear? logarithmic? something else?"
     ]
    },
    {
     "cell_type": "heading",
     "level": 4,
     "metadata": {},
     "source": [
      "numpy can also search through a sorted list for a particular value veery efficently"
     ]
    },
    {
     "cell_type": "code",
     "collapsed": false,
     "input": [
      "np.searchsorted(A, 0.5)"
     ],
     "language": "python",
     "metadata": {},
     "outputs": [
      {
       "metadata": {},
       "output_type": "pyout",
       "prompt_number": 3,
       "text": [
        "5042"
       ]
      }
     ],
     "prompt_number": 3
    },
    {
     "cell_type": "heading",
     "level": 1,
     "metadata": {},
     "source": [
      "Finding a nearest neighbor: Brute Force"
     ]
    },
    {
     "cell_type": "raw",
     "metadata": {},
     "source": [
      "Suppose we have a matrix, X, which is a collection of vectors, each describing a point in space. Each vector is in a row, and has an x, y, and z component. For each point, we want to know which of the other points in the matrix is closest."
     ]
    },
    {
     "cell_type": "code",
     "collapsed": false,
     "input": [
      "np.random.seed(0)\n",
      "X= np.random.random((5,3))\n",
      "X"
     ],
     "language": "python",
     "metadata": {},
     "outputs": [
      {
       "metadata": {},
       "output_type": "pyout",
       "prompt_number": 4,
       "text": [
        "array([[ 0.5488135 ,  0.71518937,  0.60276338],\n",
        "       [ 0.54488318,  0.4236548 ,  0.64589411],\n",
        "       [ 0.43758721,  0.891773  ,  0.96366276],\n",
        "       [ 0.38344152,  0.79172504,  0.52889492],\n",
        "       [ 0.56804456,  0.92559664,  0.07103606]])"
       ]
      }
     ],
     "prompt_number": 4
    },
    {
     "cell_type": "raw",
     "metadata": {},
     "source": [
      "We can try to tackle this by computing the distance between each vector one at a time, and remembering which distance is smallest for every pair."
     ]
    },
    {
     "cell_type": "code",
     "collapsed": false,
     "input": [
      "#in this function we will take a matrix that contains\n",
      "#several vectors and compare the matrix to itself\n",
      "#to determine for every point which other point is closest\n",
      "def easy_nn(X):\n",
      "    N, D = X.shape\n",
      "    neighbors = np.zeros(N, dtype=int)\n",
      "    for i in range(N): \n",
      "        #initialize closest distance to infinity\n",
      "        j_closest = i\n",
      "        d_closest = np.inf\n",
      "        for j in range(N): #now compare the matrix to itself\n",
      "            if i == j: #dont compare the vector to itself\n",
      "                continue\n",
      "            d = np.sqrt(np.sum((X[i]-X[j])**2)) #fixed typo\n",
      "            if d < d_closest:\n",
      "                j_closest = j\n",
      "                d_closest = d\n",
      "        neighbors[i] = j_closest #remember which vector was closest\n",
      "    return neighbors   #neighbors[i] is the closest vector to \n",
      "                        #the ith vector in the matix A"
     ],
     "language": "python",
     "metadata": {},
     "outputs": [],
     "prompt_number": 5
    },
    {
     "cell_type": "raw",
     "metadata": {},
     "source": [
      "our function has a nested for loop and computes the distance between vectors one pair at a time. Lets try it out and see how long it takes"
     ]
    },
    {
     "cell_type": "code",
     "collapsed": false,
     "input": [
      "%timeit easy_nn(X)"
     ],
     "language": "python",
     "metadata": {},
     "outputs": [
      {
       "output_type": "stream",
       "stream": "stdout",
       "text": [
        "1000 loops, best of 3: 417 \u00b5s per loop\n"
       ]
      }
     ],
     "prompt_number": 12
    },
    {
     "cell_type": "raw",
     "metadata": {},
     "source": [
      "Not bad, and easy enough to code. However, as we add more and more vectors to our matrix, the computation time will go as N**2. A matrix of 50 vectors will take 10000x longer to compute.\n",
      "\n",
      "Instead we can Vectorize our algorithm to make it faster and more efficent"
     ]
    },
    {
     "cell_type": "markdown",
     "metadata": {},
     "source": [
      "$$\\sum_{k} (X_{ik} - X_{jk})^{2}$$ \n",
      "\n",
      "This give us the distance between the ith and jth vectors-each having components k-from the matrix X\n",
      "\n",
      "$$= \\sum_{k} X_{ik}^{2} + X_{jk}^{2} -2 X_{ik} X_{jk}$$\n",
      "\n",
      "We can foil out this sum and have vector dot products, again summing over the components\n",
      "\n",
      "$$=\\sum_{k} X_{ik}^{2} -2 \\sum_{k} X_{ik} X_{jk} + \\sum_{k} X_{jk}^2$$\n",
      "\n",
      "We can sum over each term by itself instead\n",
      "\n",
      "$$=[XX^{T}]_{ii} - 2[XX^{T}]_{ij} + [XX^{T}]_{jj}$$\n",
      "\n",
      "By writing out the vector dot product as matrix multiplication instead, we can \"Vectorize\" our formula\n",
      "\n",
      "we should instead think of each sum as matrix multiplication.\n",
      "we can write this up neatly in numpy"
     ]
    },
    {
     "cell_type": "heading",
     "level": 1,
     "metadata": {},
     "source": [
      "Finding Nearest neighbor: Vectorized "
     ]
    },
    {
     "cell_type": "code",
     "collapsed": false,
     "input": [
      "#this function is a little different than the textbook version\n",
      "#the textbook version uses np.argsort() at the end of the function\n",
      "#we break it up here so we can go over how np.argsort() works later on\n",
      "def vectorized_nn(X):\n",
      "    XXT=np.dot(X,X.T) #matrix multiplication of X and its transpose\n",
      "    Xii=XXT.diagonal() #diagonal elements of the matrix XXT\n",
      "    D = Xii - 2 * XXT + Xii[:,np.newaxis] #newaxis makes it a column vector instead of row\n",
      "    return D"
     ],
     "language": "python",
     "metadata": {},
     "outputs": [],
     "prompt_number": 7
    },
    {
     "cell_type": "markdown",
     "metadata": {},
     "source": [
      "Our function recieves a vector X as an argument, and returns a vector D\n",
      "\n",
      "If X is an N x m matrix (N vectors, m dimensions) D is an N x N matrix.\n",
      "\n",
      "The ith and jth elements of D tell us the distance between the ith and jth vectors in X. Concretley,\n",
      "\n",
      "$$D_{ij} = X_{i}X_{i} + X_{j}X_{j} - 2X_{i}X_{j}$$\n",
      "\n",
      "Lets see our vectorized function in action, pay attention to the time it takes to execute"
     ]
    },
    {
     "cell_type": "code",
     "collapsed": false,
     "input": [
      "%timeit vectorized_nn(X)"
     ],
     "language": "python",
     "metadata": {},
     "outputs": [
      {
       "output_type": "stream",
       "stream": "stdout",
       "text": [
        "10000 loops, best of 3: 28.5 \u00b5s per loop\n"
       ]
      }
     ],
     "prompt_number": 11
    },
    {
     "cell_type": "raw",
     "metadata": {},
     "source": [
      "Check out the difference in time between vectorized_nn and easy_nn. \n",
      "The diagonals are zeros because this compares each vector to itself. additionally, our matrix is symetrical, as you might expect\n",
      "we can use np.argsort() to neatly express which vectors are closest to which"
     ]
    },
    {
     "cell_type": "code",
     "collapsed": false,
     "input": [
      "np.argsort(vectorized_nn(X), axis=1)"
     ],
     "language": "python",
     "metadata": {},
     "outputs": [
      {
       "metadata": {},
       "output_type": "pyout",
       "prompt_number": 9,
       "text": [
        "array([[0, 3, 1, 2, 4],\n",
        "       [1, 0, 3, 2, 4],\n",
        "       [2, 0, 3, 1, 4],\n",
        "       [3, 0, 1, 2, 4],\n",
        "       [4, 3, 0, 1, 2]])"
       ]
      }
     ],
     "prompt_number": 9
    },
    {
     "cell_type": "raw",
     "metadata": {},
     "source": [
      "np.argsort compared the values along each row, because we chose axis=1. If we choose axis=0 instead, it would compare columsn. It returned to us a map of where the smallest values are by listing their index.\n",
      "\n",
      "consider the first column for example. the ith element in this column tells us the index of the ith row of x which has the smallest value in its row. This column describes the diagonal of X, which is expected since it is zero.\n",
      "\n",
      "The second column then, describes the location of the nearest neighbor\n",
      "\n",
      "To return only the second column, we can modify the above line of code slightly to print \"all the rows, of column index 1\""
     ]
    },
    {
     "cell_type": "code",
     "collapsed": false,
     "input": [
      "np.argsort(vectorized_nn(X), axis=1)[:,1]"
     ],
     "language": "python",
     "metadata": {},
     "outputs": [
      {
       "metadata": {},
       "output_type": "pyout",
       "prompt_number": 10,
       "text": [
        "array([3, 0, 0, 0, 3])"
       ]
      }
     ],
     "prompt_number": 10
    }
   ],
   "metadata": {}
  }
 ]
}