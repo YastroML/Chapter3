{
 "metadata": {
  "name": "",
  "signature": "sha256:83f853b3670947a0491cf07625afeb2944b8b698af201fe7f1652248d17fc22c"
 },
 "nbformat": 3,
 "nbformat_minor": 0,
 "worksheets": [
  {
   "cells": [
    {
     "cell_type": "code",
     "collapsed": false,
     "input": [
      "%pylab inline\n",
      "%load_ext autoreload\n",
      "%autoreload 2\n",
      "plt.rcParams['figure.figsize'] = (12.0, 8.0)"
     ],
     "language": "python",
     "metadata": {},
     "outputs": [
      {
       "output_type": "stream",
       "stream": "stdout",
       "text": [
        "Populating the interactive namespace from numpy and matplotlib\n"
       ]
      }
     ],
     "prompt_number": 2
    },
    {
     "cell_type": "heading",
     "level": 1,
     "metadata": {},
     "source": [
      "Chapter 10: Time Series Analysis"
     ]
    },
    {
     "cell_type": "heading",
     "level": 2,
     "metadata": {},
     "source": [
      "10.1 Main Concepts for Time Series Analysis"
     ]
    },
    {
     "cell_type": "heading",
     "level": 3,
     "metadata": {},
     "source": [
      "10.1.1. Is My Time Series Just Noise?"
     ]
    },
    {
     "cell_type": "markdown",
     "metadata": {},
     "source": [
      "Are my data consistent with the null hypothesis described by a model consisting of a constant signal plus measurement noise?"
     ]
    },
    {
     "cell_type": "markdown",
     "metadata": {},
     "source": [
      "**Frequentist Solution**: Use hypothesis testing! What is the probability that we would obtain our data by chance if the null hypothesis of no variability were correct?\n",
      "\n",
      "Compute $\\Chi^2"
     ]
    }
   ],
   "metadata": {}
  }
 ]
}