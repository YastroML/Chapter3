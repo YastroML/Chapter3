{
 "metadata": {
  "name": "",
  "signature": "sha256:9b568c4b2a0acba3e0502eefeba1a9344777b9e579dadf3b9b4b818965f359aa"
 },
 "nbformat": 3,
 "nbformat_minor": 0,
 "worksheets": [
  {
   "cells": [
    {
     "cell_type": "code",
     "collapsed": false,
     "input": [],
     "language": "python",
     "metadata": {},
     "outputs": []
    }
   ],
   "metadata": {}
  }
 ]
}