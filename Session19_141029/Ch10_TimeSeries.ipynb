{
 "metadata": {
  "name": "",
  "signature": "sha256:accd0691caffa95fe56a496b2b67bf27294d1ed80ed83c0402dfc8ce0d6a1f87"
 },
 "nbformat": 3,
 "nbformat_minor": 0,
 "worksheets": [
  {
   "cells": [
    {
     "cell_type": "code",
     "collapsed": false,
     "input": [
      "%pylab inline\n",
      "%load_ext autoreload\n",
      "%autoreload 2\n",
      "plt.rcParams['figure.figsize'] = (12.0, 8.0)"
     ],
     "language": "python",
     "metadata": {},
     "outputs": [
      {
       "output_type": "stream",
       "stream": "stdout",
       "text": [
        "Populating the interactive namespace from numpy and matplotlib\n"
       ]
      }
     ],
     "prompt_number": 2
    },
    {
     "cell_type": "heading",
     "level": 1,
     "metadata": {},
     "source": [
      "Chapter 10: Time Series Analysis"
     ]
    },
    {
     "cell_type": "heading",
     "level": 2,
     "metadata": {},
     "source": [
      "10.1 Main Concepts for Time Series Analysis"
     ]
    },
    {
     "cell_type": "heading",
     "level": 3,
     "metadata": {},
     "source": [
      "Is My Time Series Just Noise?"
     ]
    },
    {
     "cell_type": "markdown",
     "metadata": {},
     "source": [
      "Are my data consistent with the null hypothesis described by a model consisting of a constant signal plus measurement noise?"
     ]
    },
    {
     "cell_type": "markdown",
     "metadata": {},
     "source": [
      "**Frequentist Solution**: Use hypothesis testing! What is the probability that we would obtain our data by chance if the null hypothesis of no variability were correct?\n",
      "\n",
      "Compute $\\chi^2$ and the corresponding $p$ values."
     ]
    },
    {
     "cell_type": "markdown",
     "metadata": {},
     "source": [
      "Consider a sin wave:\n",
      "\n",
      "$$y(t) = A\\sin(\\omega t)$$\n",
      "\n",
      "sampled by $N \\sim 100$ data points with homoscedastic errors with standard deviation $\\sigma$. \n",
      "\n",
      "The variance is:\n",
      "\n",
      "$$V = \\sigma^2 + A^2/2$$"
     ]
    },
    {
     "cell_type": "markdown",
     "metadata": {},
     "source": [
      "By a simple $\\chi^2_{dof}$ analysis, the detectable amplitude decreases *very* slowly as a function of the number of observations. For example, for $N = 100$ data points the minimum detectable amplitude is $A = 0.92\\sigma$, and for $N = 1000$ data points it only improves to $A = 0.52 \\sigma$.\n",
      "\n",
      "However, we'll see that our ability to discern a signal greatly improves if we specify a model. "
     ]
    },
    {
     "cell_type": "heading",
     "level": 2,
     "metadata": {},
     "source": [
      "10.2 Modeling Toolkit for Time Series Analysis"
     ]
    },
    {
     "cell_type": "heading",
     "level": 3,
     "metadata": {},
     "source": [
      "10.2.1. Parameter Estimation, Model Selection, and Classification for Time Series Data"
     ]
    },
    {
     "cell_type": "markdown",
     "metadata": {},
     "source": [
      "Detection of a signal is essentially a hypothesis testing or model selection problem. \n",
      "\n",
      "The quantitative *description* of a signal belongs to parameter estimation and regression problems. "
     ]
    },
    {
     "cell_type": "markdown",
     "metadata": {},
     "source": [
      "In general, time series model fitting of $N$ observations $(t_j, y_j), j = 1, ..., N$ is of the form:\n",
      "\n",
      "$$y_j(t_j) = \\sum_{m=1}^{N}\\beta_m T_m(t_j | \\mathbf{\\theta}_m) + \\epsilon_j$$\n",
      "\n",
      "where $T_m(t|\\mathbf{\\theta}_m) need not be periodic."
     ]
    },
    {
     "cell_type": "code",
     "collapsed": false,
     "input": [],
     "language": "python",
     "metadata": {},
     "outputs": []
    }
   ],
   "metadata": {}
  }
 ]
}