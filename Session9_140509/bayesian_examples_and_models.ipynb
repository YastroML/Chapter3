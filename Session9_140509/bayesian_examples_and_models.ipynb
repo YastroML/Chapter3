{
 "metadata": {
  "name": ""
 },
 "nbformat": 3,
 "nbformat_minor": 0,
 "worksheets": [
  {
   "cells": [
    {
     "cell_type": "heading",
     "level": 1,
     "metadata": {},
     "source": [
      "Bayesian Examples"
     ]
    },
    {
     "cell_type": "heading",
     "level": 2,
     "metadata": {},
     "source": [
      "Parameter Estimation for a Gaussian (small N)\n"
     ]
    },
    {
     "cell_type": "heading",
     "level": 4,
     "metadata": {},
     "source": [
      "Section 5.6.1"
     ]
    },
    {
     "cell_type": "markdown",
     "metadata": {},
     "source": [
      "Consider the case of determining the parameters of a Gaussian ($\\mu$ and $\\sigma$) from a series of $N$ measurements {$x_i$}. There exist simple analytic estimators from classical statistics. Unfortunately, as is often the case, the classical _error bars_/_uncertainties_ on these parameters make assumptions about normality. In the case of a small number of data points $N$, the posterior pdf is _not_ normal."
     ]
    },
    {
     "cell_type": "markdown",
     "metadata": {},
     "source": [
      "The classical result is easy, we use the sample standard deviation ($s$) and the sample mean $\\sigma_x$ as our estimators and we have\n",
      "\n",
      "$\\sigma_x = \\frac{s}{\\sqrt{N}}$ <- Standard error of the mean\n",
      "\n",
      "and\n",
      "\n",
      "$\\sigma_s = \\frac{s}{\\sqrt{2(N-1)}} = \\frac{1}{\\sqrt{2}}\\sqrt{\\frac{N}{N-1}}\\sigma_x$\n",
      "\n",
      "where the extra factors in the latter expression are necessary to make these unbiased estimators (basically because we are estimating the mean and the width of the distribution from the data)"
     ]
    },
    {
     "cell_type": "markdown",
     "metadata": {},
     "source": [
      "Our likelihood is \"simply\"\n",
      "\n",
      "$p({x_i}|\\mu,\\sigma,I) = \\prod_{i=1}^{N} \\frac{1}{\\sqrt{2\\pi} \\sigma} \\exp\\left(\\frac{-(x_i-\\mu)^2}{2 \\sigma^2}\\right)$\n",
      "\n",
      "We will adopt a uniform prior on $\\mu$ and a uniform prior on ln $\\sigma$\n",
      "\n",
      "$p(\\mu,\\sigma|I) \\propto 1/\\sigma$\n",
      "\n",
      "Normally we neglect constants, but they are important in model comparison (later), so we'll keep them here. Our posterior pdf is then\n",
      "\n",
      "$p({x_i}|\\mu,\\sigma,I)p(\\mu,\\sigma|I) = C \\frac{1}{\\sigma^{N+1}} \\prod_{i=1}^{N} \\exp\\left(\\frac{-(x_i-\\mu)^2}{2 \\sigma^2}\\right)$,\n",
      "\n",
      "where\n",
      "\n",
      "$C = (2 \\pi)^{N/2} (\\mu_{\\mathrm {max}} - \\mu_{\\mathrm {min}})^{-1} \\left[\\ln\\left(\\frac{\\sigma_{\\mathrm {max}}}{\\sigma_{\\mathrm {min}}}\\right)\\right]^{-1} $\n",
      "\n",
      "$\\ln (p) = L_{p} = \\mathrm{constant} - (N+1)\\ln \\sigma - \\sum_{i=1}^{N} \\frac{(x_i - \\mu)^2}{2 \\sigma^2}$\n",
      "\n",
      "Much math later you can get the posterior pdf for $\\sigma$ analytically (see textbook)."
     ]
    },
    {
     "cell_type": "code",
     "collapsed": false,
     "input": [
      "# Author: Jake VanderPlas\n",
      "# License: BSD\n",
      "#   The figure produced by this code is published in the textbook\n",
      "#   \"Statistics, Data Mining, and Machine Learning in Astronomy\" (2013)\n",
      "#   For more information, see http://astroML.github.com\n",
      "#   To report a bug or issue, use the following forum:\n",
      "#    https://groups.google.com/forum/#!forum/astroml-general\n",
      "import numpy as np\n",
      "from matplotlib import pyplot as plt\n",
      "from astroML.stats import mean_sigma\n",
      "from astroML.resample import bootstrap\n",
      "\n",
      "#----------------------------------------------------------------------\n",
      "# This function adjusts matplotlib settings for a uniform feel in the textbook.\n",
      "# Note that with usetex=True, fonts are rendered with LaTeX.  This may\n",
      "# result in an error if LaTeX is not installed on your system.  In that case,\n",
      "# you can set usetex to False.\n",
      "from astroML.plotting import setup_text_plots\n",
      "setup_text_plots(fontsize=8, usetex=True)\n",
      "\n",
      "\n",
      "#------------------------------------------------------------\n",
      "# Define functions for computations below\n",
      "#  These are expected analytic fits to the posterior distributions\n",
      "def compute_pmu(mu, xbar, V, n):\n",
      "    return (1 + (xbar - mu) ** 2 / V) ** (-0.5 * n)\n",
      "\n",
      "\n",
      "def compute_pmu_alt(mu, xbar, V, n):\n",
      "    return (1 + (xbar - mu) ** 2 / V) ** (-0.5 * (n - 1))\n",
      "\n",
      "\n",
      "def compute_psig(sig, V, n):\n",
      "    return (sig ** -n) * np.exp(-0.5 * n * V / sig ** 2)\n",
      "\n",
      "\n",
      "def compute_psig_alt(sig, V, n):\n",
      "    return (sig ** -(n - 1)) * np.exp(-0.5 * n * V / sig ** 2)\n",
      "\n",
      "\n",
      "def gaussian(x, mu, sigma):\n",
      "    return np.exp(-0.5 * (x - mu) ** 2 / sigma ** 2)\n",
      "\n",
      "\n",
      "#------------------------------------------------------------\n",
      "# Draw a random sample from the distribution, and compute\n",
      "# some quantities\n",
      "n = 10 ## CHANGE THIS NUMBER TO INCREASE SAMPLES ##\n",
      "xbar = 1\n",
      "V = 4\n",
      "sigma_x = np.sqrt(V)\n",
      "\n",
      "np.random.seed(10)\n",
      "xi = np.random.normal(xbar, sigma_x, size=n)\n",
      "\n",
      "mu_mean, sig_mean = mean_sigma(xi, ddof=1)\n",
      "\n",
      "# compute the analytically expected spread in measurements\n",
      "mu_std = sig_mean / np.sqrt(n)\n",
      "sig_std = sig_mean / np.sqrt(2 * (n - 1))\n",
      "\n",
      "#------------------------------------------------------------\n",
      "# bootstrap estimates\n",
      "mu_bootstrap, sig_bootstrap = bootstrap(xi, 1E6, mean_sigma,\n",
      "                                        kwargs=dict(ddof=1, axis=1))\n",
      "\n",
      "#------------------------------------------------------------\n",
      "# Compute analytic posteriors\n",
      "\n",
      "# distributions for the mean\n",
      "mu = np.linspace(-3, 5, 1000)\n",
      "dmu = mu[1] - mu[0]\n",
      "\n",
      "pmu = compute_pmu(mu, xbar, V, n)\n",
      "pmu /= (dmu * pmu.sum())\n",
      "\n",
      "pmu2 = compute_pmu_alt(mu, xbar, V, n)\n",
      "pmu2 /= (dmu * pmu2.sum())\n",
      "\n",
      "pmu_norm = gaussian(mu, mu_mean, mu_std)\n",
      "pmu_norm /= (dmu * pmu_norm.sum())\n",
      "\n",
      "mu_hist, mu_bins = np.histogram(mu_bootstrap, 20)\n",
      "mu_dbin = np.diff(mu_bins).astype(float)\n",
      "mu_hist = mu_hist / mu_dbin / mu_hist.sum()\n",
      "\n",
      "# distributions for the standard deviation\n",
      "sig = np.linspace(1E-4, 8, 1000)\n",
      "dsig = sig[1] - sig[0]\n",
      "psig = compute_psig(sig, V, n)\n",
      "psig /= (dsig * psig.sum())\n",
      "\n",
      "psig2 = compute_psig_alt(sig, V, n)\n",
      "psig2 /= (dsig * psig2.sum())\n",
      "\n",
      "psig_norm = gaussian(sig, sig_mean, sig_std)\n",
      "psig_norm /= (dsig * psig_norm.sum())\n",
      "\n",
      "sig_hist, sig_bins = np.histogram(sig_bootstrap, 20)\n",
      "sig_dbin = np.diff(sig_bins).astype(float)\n",
      "sig_hist = sig_hist / sig_dbin / sig_hist.sum()\n",
      "\n"
     ],
     "language": "python",
     "metadata": {},
     "outputs": []
    },
    {
     "cell_type": "code",
     "collapsed": false,
     "input": [
      "#------------------------------------------------------------\n",
      "# Plot the results\n",
      "fig = plt.figure(figsize=(7, 7))\n",
      "fig.subplots_adjust(wspace=0.35, right=0.95,\n",
      "                    hspace=0.2, top=0.95)\n",
      "\n",
      "# plot posteriors for mu\n",
      "ax1 = plt.subplot(221, yscale='log')\n",
      "ax1.plot(mu, pmu, '-b')\n",
      "ax1.plot(mu, pmu2, ':m')\n",
      "ax1.plot(mu, pmu_norm, '--r')\n",
      "ax1.scatter(mu_bins[1:] - 0.5 * mu_dbin, mu_hist,\n",
      "            color='k', facecolor='none')\n",
      "\n",
      "ax1.set_xlabel(r'$\\mu$')\n",
      "ax1.set_ylabel(r'$p(\\mu|x,I)$')\n",
      "\n",
      "ax2 = plt.subplot(223, sharex=ax1)\n",
      "ax2.plot(mu, pmu.cumsum() * dmu, '-b')\n",
      "ax2.plot(mu, pmu_norm.cumsum() * dmu, '--r')\n",
      "ax2.scatter(mu_bins[1:] - 0.5 * mu_dbin, mu_hist.cumsum() * mu_dbin,\n",
      "            color='k', facecolor='none')\n",
      "ax2.set_xlim(-3, 5)\n",
      "\n",
      "ax2.set_xlabel(r'$\\mu$')\n",
      "ax2.set_ylabel(r'$P(<\\mu|x,I)$')\n",
      "\n",
      "# plot posteriors for sigma\n",
      "ax3 = plt.subplot(222, sharey=ax1)\n",
      "ax3.plot(sig, psig, '-b')\n",
      "ax3.plot(sig, psig2, ':m')\n",
      "ax3.plot(sig, psig_norm, '--r')\n",
      "ax3.scatter(sig_bins[1:] - 0.5 * sig_dbin, sig_hist,\n",
      "            color='k', facecolor='none')\n",
      "ax3.set_ylim(1E-4, 2)\n",
      "\n",
      "ax3.set_xlabel(r'$\\sigma$')\n",
      "ax3.set_ylabel(r'$p(\\sigma|x,I)$')\n",
      "\n",
      "ax4 = plt.subplot(224, sharex=ax3, sharey=ax2)\n",
      "\n",
      "ax4.plot(sig, psig.cumsum() * dsig, '-b',label=\"Bayes (Jeffreys)\")\n",
      "ax4.plot(sig, psig2.cumsum() * dsig, ':m',label=\"Bayes (uniform)\")\n",
      "\n",
      "ax4.plot(sig, psig_norm.cumsum() * dsig, '--r',label=\"Classical\")\n",
      "ax4.scatter(sig_bins[1:] - 0.5 * sig_dbin, sig_hist.cumsum() * sig_dbin,\n",
      "            color='k', facecolor='none',label=\"Bootstrap\")\n",
      "ax4.set_ylim(0, 1.05)\n",
      "ax4.set_xlim(0, 5)\n",
      "\n",
      "ax4.set_xlabel(r'$\\sigma$')\n",
      "ax4.set_ylabel(r'$P(<\\sigma|x,I)$')\n",
      "\n",
      "ax4.legend(loc=\"lower right\")"
     ],
     "language": "python",
     "metadata": {},
     "outputs": []
    },
    {
     "cell_type": "markdown",
     "metadata": {},
     "source": [
      "The true answer is $\\mu$ = 1 and $\\sigma$ = 2. The classical approximation is not so good for $\\sigma$. Bootstrap is the same (both, effectively, assume a Gaussian posterior pdf). The true posterior pdf (in blue) is not Gaussian; it is a $\\chi^2$ distribution with N-1 degrees of freedom. Remember, this distribution converges to Gaussian for large N.\n",
      "\n",
      "Our choice of (non-informative) prior does not matter. Choosing the uniform or Jeffreys prior gives basically the same answer.\n",
      "\n",
      "Also note that the typical confidence interval on the classical $\\sigma$ could include negative numbers. This is obviously nonsense, although you see it a lot in astronomy. The Bayesian result avoids negative values of $\\sigma$.\n",
      "\n",
      "If you increase $N$, the answers converge.\n",
      "\n",
      "The point is _not_ the classical statistics can't get the right answer. In fact, Cochran's theorem can tell you that the ratio of the sample variance to the true variance is distributed like $\\chi^2_{n-1}$. The point is that in classical statistics you always have to choose the right tool for the job (the right statistic) carefully. There are generally fewer choices in Bayesian analysis, and just one right way to do it."
     ]
    },
    {
     "cell_type": "heading",
     "level": 2,
     "metadata": {},
     "source": [
      "Parameter Estimation for a Gaussian with non-uniform errors"
     ]
    },
    {
     "cell_type": "markdown",
     "metadata": {},
     "source": [
      "In astronomy we very often have non-uniform errors on data points due to different S/N for different objects. Determining the _mean_ ($\\mu_o$) of an underlying Gaussian is analytic in this case, but there is no analytic solution to determing the _width_ ($\\sigma_0$) of the underlying Gaussian distribution."
     ]
    },
    {
     "cell_type": "heading",
     "level": 2,
     "metadata": {},
     "source": [
      "Parameter Estimation for a Cauchy (Lorentzian) Distribution"
     ]
    },
    {
     "cell_type": "markdown",
     "metadata": {},
     "source": [
      "Remember that the Cauchy distribuion has fat tails and so the mean of a sample is not a good estimator for the center of the distribution."
     ]
    },
    {
     "cell_type": "heading",
     "level": 1,
     "metadata": {},
     "source": [
      "Bayesian Model Selection"
     ]
    },
    {
     "cell_type": "code",
     "collapsed": false,
     "input": [],
     "language": "python",
     "metadata": {},
     "outputs": []
    }
   ],
   "metadata": {}
  }
 ]
}