{
 "metadata": {
  "name": ""
 },
 "nbformat": 3,
 "nbformat_minor": 0,
 "worksheets": [
  {
   "cells": [
    {
     "cell_type": "code",
     "collapsed": false,
     "input": [
      "import numpy as np\n",
      "import matplotlib.pyplot as plt\n",
      "%matplotlib inline"
     ],
     "language": "python",
     "metadata": {},
     "outputs": [],
     "prompt_number": 2
    },
    {
     "cell_type": "heading",
     "level": 1,
     "metadata": {},
     "source": [
      "Chapter 5: Bayesian Statistical Inference"
     ]
    },
    {
     "cell_type": "markdown",
     "metadata": {},
     "source": [
      "The Basic Idea: probability statements can be made about model parameters and models themselves, not just data.  "
     ]
    },
    {
     "cell_type": "heading",
     "level": 2,
     "metadata": {},
     "source": [
      "5.1: The Bayesian Method"
     ]
    },
    {
     "cell_type": "heading",
     "level": 3,
     "metadata": {},
     "source": [
      "the mathematical formailism bit"
     ]
    },
    {
     "cell_type": "markdown",
     "metadata": {},
     "source": [
      "The Bayesian method extends the concept of the data likelihood function by adding additional information, priors, to the analysis and assigning PDFs to all the model parameters/models.\n",
      "\n",
      "As a reminder Bayes' rule is:\n",
      "\n",
      "\\begin{equation}\n",
      "p(y|x)=\\frac{p(x|y)p(y)}{p(x)},\n",
      "\\end{equation}\n",
      "\n",
      "where $x$ and $y$ are random variables.  This statement is not controversial, and we used it many times in the previous chapters on frequentist analysis.\n",
      "\n",
      "Bayesian anaylsis is based on applying the likelihood function, $p(D|M)$, to Bayes' rule to obtain Bayes' theorem:\n",
      "\n",
      "\\begin{equation}\n",
      "p(M|D)=\\frac{p(D|M)p(M)}{p(D)},\n",
      "\\end{equation}\n",
      "\n",
      "where $D$ is some data and $M$ is some model for the data.  This formalism allows us to incorporate prior information or beliefs as:\n",
      "\n",
      "\\begin{equation}\n",
      "p(M,\\theta|D,I)=\\frac{p(D|M,\\theta,I)p(M,\\theta|I)}{p(D|I)},\n",
      "\\end{equation}\n",
      "\n",
      "where $\\theta$ are the model parameters and $I$ are the prior information we want to incorporate.  let's break this down and talk about the components of this equation.\n",
      "\n",
      "1. $p(M,\\theta|D,I)$ is the posterior pdf for the model, $M$, with paramters, $\\theta$.\n",
      "\n",
      "2. $p(D|M,\\theta,I)$ is the likelihood of data given some model, $M$, with parameters, $\\theta$, with prior information, $I$.\n",
      "\n",
      "3. $p(M,\\theta|I)$ is the *a priori* joint probability joint probability for a model, $M$, with parameters, $\\theta$, in the absence of any of the data used to compute the likelihood.  This is often referred to as simply the *prior*.  Note that we can write this as: $p(M,\\theta|I) = p(\\theta|M,I)p(M|I)$\n",
      "\n",
      "4. $p(D|I)$ is the probability of data, or the prior preditive probability of the data given the prior information.  This normalizes the posterior pdf properly, however, we can usually ignore it and just renormalize the pdf ourselves later.  However, if we are comparing models for model selection we will have to include it! \n",
      "\n",
      "***\n",
      "a side note for the latin nerds: \n",
      "\n",
      "*a priori* = \"from the earlier\" and *a posteriori* = \"from the later\"\n",
      "***"
     ]
    },
    {
     "cell_type": "heading",
     "level": 3,
     "metadata": {},
     "source": [
      "whats the big deal?"
     ]
    },
    {
     "cell_type": "markdown",
     "metadata": {},
     "source": [
      "Ok, great.  So what exactly is all the uproar about?  All of it rests on the interpretation of the posterior pdf, $p(M,\\theta|D,I)$.  \n",
      "\n",
      "To see the issue, consider the data likelihood pdf, $p(D|M,\\theta,I)$.  It can be understood in terms of terms of the long term outcome of events.  If you keep taking data, events will happen with a frequency given by the pdf.  \n",
      "\n",
      "The posterior pdf does not have this same interpretation.  In this case, we assign $p(M,\\theta|D,I)$ to mean the probability given the \"state of our knowledge\".  The meaning of the symbol has been changed, but all the mathematical axioms continue to apply.  "
     ]
    },
    {
     "cell_type": "heading",
     "level": 3,
     "metadata": {},
     "source": [
      "Simple example"
     ]
    },
    {
     "cell_type": "markdown",
     "metadata": {},
     "source": [
      "Let's construct a simple example and apply both a likelihood and bayesian analysis to it.\n",
      "\n",
      "Consider the problem of waiting for a bus for a time, $t$, and wanting to know the average time between busses, $\\tau$.  The wait time is a uniform distribution in the interval $0\\leq t \\leq \\tau$.  On average you will wait $<t>=\\tau/2$.  Then the time between bus stops is $\\tau=2<t>$.  We can plot this up really quickly.    "
     ]
    },
    {
     "cell_type": "code",
     "collapsed": false,
     "input": [
      "#let's build a model here.  Assume the bus comes every hour, on the hour, all day.\n",
      "t_int = 1 #in hours\n",
      "t_stop = np.arange(0,24,t_int)  #times during the day the bus stops.\n",
      "\n",
      "#let's pick some times for the bus rider to arrive at the bus stop.\n",
      "n_data = 1000 #number of times we wait for the bus\n",
      "t_arrive = np.random.random(n_data)*24.0\n",
      "\n",
      "#the wait time is then\n",
      "t_wait = np.ceil(t_arrive)-t_arrive #in hours\n",
      "\n",
      "#let me calculate the distribution of wait times\n",
      "bins = np.arange(0,1,0.0166)\n",
      "bin_centers = (bins[:-1]-bins[1:])/2.0\n",
      "bin_width = bins[1]-bins[0]\n",
      "result = np.histogram(t_wait,bins=bins)[0]\n",
      "\n",
      "#plot the distribution of wait times.\n",
      "plt.figure()\n",
      "plt.bar(bins[:-1],result,width=bin_width)\n",
      "plt.xlabel('wait time, t (h)')\n",
      "plt.ylabel('N')\n",
      "plt.xlim([-0.1,1.1])\n",
      "plt.show()"
     ],
     "language": "python",
     "metadata": {},
     "outputs": [
      {
       "metadata": {},
       "output_type": "display_data",
       "png": "[encoded data removed]",
       "text": [
        "<matplotlib.figure.Figure at 0x107f573d0>"
       ]
      }
     ],
     "prompt_number": 3
    },
    {
     "cell_type": "markdown",
     "metadata": {},
     "source": [
      "Yep, thats a uniform distribution between $0$ and $\\tau$!  Nothing suprising so far.  So, back to the problem.  You arrive at the bus stop and want to estimate the average time between busses.  The probability that you will wait for $t$ is given by,\n",
      "\n",
      "\\begin{equation}\n",
      "p(t|\\tau) = \\left\\{\n",
      "  \\begin{array}{lr}\n",
      "    1/\\tau &: 0 \\leq t \\leq \\tau\\\\\n",
      "    0 &: \\text{otherwise}\n",
      "  \\end{array}\n",
      "\\right.\n",
      "\\end{equation}\n",
      "\n",
      "In this case we only have a single data point, so the likelihood is simply equal to this probability.  You can see this if you remember that the likelihood is defined by,\n",
      "\n",
      "\\begin{equation}\n",
      "L \\equiv p({x_i}|M(\\theta))=\\prod_{i=1}^{n}p(x_i|M(\\theta))\n",
      "\\end{equation}\n",
      "\\begin{equation}\n",
      "L \\equiv p({t}|\\tau)=\\frac{1}{\\tau}\n",
      "\\end{equation}\n",
      "\n",
      "We would estimate the time between busses is $\\tau=t$.   "
     ]
    },
    {
     "cell_type": "markdown",
     "metadata": {},
     "source": [
      "That was a bit confusing for me, so lets think about this some more.  Taking the numerical results from above..."
     ]
    },
    {
     "cell_type": "code",
     "collapsed": false,
     "input": [
      "#L = (1.0/t_wait)**n_data\n",
      "ln_L = (np.log(1.0)-np.log(t_wait))\n",
      "\n",
      "#plot as a function of wait time\n",
      "plt.plot(t_wait,ln_L,'.')\n",
      "plt.ylabel('ln(L)')\n",
      "plt.xlabel(r'$\\tau$')\n",
      "plt.xlim([0,1])\n",
      "plt.show()"
     ],
     "language": "python",
     "metadata": {},
     "outputs": [
      {
       "metadata": {},
       "output_type": "display_data",
       "png": "[encoded data removed]",
       "text": [
        "<matplotlib.figure.Figure at 0x107f6e4d0>"
       ]
      }
     ],
     "prompt_number": 4
    },
    {
     "cell_type": "markdown",
     "metadata": {},
     "source": [
      "You can see that the likelihood is maximiazed for $\\min(\\tau)$ such that $t\\leq\\tau$.  So, the best estimate for the wait time between busses will always be $\\tau=\\max(t)$.  So in our case, with only 1 data point, we would estimate the average time between buses is equal to our wait time instead of $2t$!"
     ]
    },
    {
     "cell_type": "markdown",
     "metadata": {},
     "source": [
      "Now, let's try to apply our new machinary, Bayes' theorem, on the same problem.  \n",
      "\n",
      "The data likelihood, $p(D|M,\\theta,I)$ is just the $p(t|\\tau)$ from earlier:\n",
      "\n",
      "\\begin{equation}\n",
      "p(D|M,\\theta,I) = p(t|M,\\tau,I) = \\left\\{\n",
      "  \\begin{array}{lr}\n",
      "    1/\\tau &: 0 \\leq t \\leq \\tau\\\\\n",
      "    0 &: \\text{otherwise}\n",
      "  \\end{array}\n",
      "\\right.\n",
      "\\end{equation}\n",
      "\n",
      "The prior is given by\n",
      "\n",
      "\\begin{equation}\n",
      "p(M,\\theta|I)=p(M,\\tau|I)=p(\\tau|M,I)p(M|I)\\propto \\frac{1}{\\tau}\n",
      "\\end{equation}\n",
      "\n",
      "And we will ignore the p(D|I) as we are not trying to compare models.  Then we can calculate the posterior probability density as:\n",
      "\n",
      "\\begin{equation}\n",
      "p(\\tau|t,I) = \\left[\\left\\{\n",
      "  \\begin{array}{lr}\n",
      "    1/\\tau &: 0 \\leq t \\leq \\tau\\\\\n",
      "    0 &: \\text{otherwise}\n",
      "  \\end{array}\\right.\\right]\n",
      "  \\times \n",
      "  \\frac{1}{\\tau}\n",
      "  =\n",
      "  \\left\\{\n",
      "  \\begin{array}{lr}\n",
      "    1/\\tau^2 &: \\tau \\geq t\\\\\n",
      "    0 &: \\text{otherwise}\n",
      "  \\end{array}\\right.\n",
      "\\end{equation}\n",
      "\n",
      "Now, however, we need to normalize the pdf since we ignored some normalizations bits earlier.\n",
      "\n",
      "\\begin{equation}\n",
      "\\int_t^{\\infty}p(\\tau|t,I){\\rm d}\\tau = \\int_t^{\\infty} \\frac{C}{\\tau^2} {\\rm d}\\tau =1 \\implies C=t\n",
      "\\end{equation}\n",
      "Just so I can practice integration...\n",
      "\\begin{equation}\n",
      "\\int_t^{\\infty} \\frac{C}{\\tau^2} {\\rm d}\\tau = \\frac{C}{t}-0\n",
      "\\end{equation}\n",
      "\n",
      "Ok, pheww...\n",
      "\n",
      "\\begin{equation}\n",
      "p(\\tau|t,I) = \n",
      "  \\left\\{\n",
      "  \\begin{array}{lr}\n",
      "    t/\\tau^2 &: 0 \\tau\\geq t\\\\\n",
      "    0 &: \\text{otherwise}\n",
      "  \\end{array}\\right.\n",
      "\\end{equation}\n",
      "\n",
      "Now we have the probability distribution of $\\tau$!"
     ]
    },
    {
     "cell_type": "code",
     "collapsed": false,
     "input": [
      "dt=0.0001 #sample step size\n",
      "t_test = np.arange(1,100,dt) #sample the pdf\n",
      "p = 1.0/(t_test**2.0) #probability distribution\n",
      "\n",
      "plt.figure()\n",
      "plt.plot(t_test,p,'-')\n",
      "plt.xlim([1,10])\n",
      "plt.ylim([0,1]) \n",
      "plt.xlabel(r'$\\tau/t$')\n",
      "plt.ylabel(r'$p(\\tau)$')\n",
      "plt.show()\n",
      "\n",
      "mean = np.max(np.where(np.cumsum(p*dt)<=0.5)[0])\n",
      "q25 = np.max(np.where(np.cumsum(p*dt)<=0.25)[0])\n",
      "q75 = np.max(np.where(np.cumsum(p*dt)<=0.75)[0])\n",
      "\n",
      "print 'mean wait time:', t_test[mean], 't'\n",
      "print 'the quartiles are:', t_test[q25],'t', t_test[q75],'t'"
     ],
     "language": "python",
     "metadata": {},
     "outputs": [
      {
       "metadata": {},
       "output_type": "display_data",
       "png": "[encoded data removed]",
       "text": [
        "<matplotlib.figure.Figure at 0x108834b90>"
       ]
      },
      {
       "output_type": "stream",
       "stream": "stdout",
       "text": [
        "mean wait time: 1.9997 t\n",
        "the quartiles are: 1.3331 t 3.9991 t\n"
       ]
      }
     ],
     "prompt_number": 49
    },
    {
     "cell_type": "markdown",
     "metadata": {},
     "source": [
      "This probability distribution peaks at $\\tau=t$, the mean is at $\\tau=2t$, and the quatrtiles are $\\frac{4}{3}t$ and $4t$."
     ]
    },
    {
     "cell_type": "heading",
     "level": 2,
     "metadata": {},
     "source": [
      "5.2: Bayesian Priors"
     ]
    },
    {
     "cell_type": "markdown",
     "metadata": {},
     "source": [
      "Choosing a pryor seems to be a non-trivial task.  This section outlines methods to choose priors.\n",
      "\n",
      "If you you have no other information other than the data you are analyzing, you can still assign priors; however, you probably want to use an **uninformative prior**.  \n",
      "Two options here are a flat prior:\n",
      "\n",
      "\\begin{equation}\n",
      "p(\\theta|I)\\propto C\n",
      "\\end{equation}\n",
      "\n",
      "and a scale invariant prior(related to Jefforys Prior?):\n",
      "\n",
      "\\begin{equation}\n",
      "p(\\theta|I)\\propto \\frac{1}{\\theta}\n",
      "\\end{equation}\n",
      "\n",
      "I found thinking about these two priors worth some time.  For the scale invariant prior you can see that it is unchnged by multiplying by a factor of $a$.  If $p(\\theta) = b\\theta^{-1}$, then:\n",
      "\n",
      "\\begin{equation}\n",
      "p(a\\theta){\\rm d}(a\\theta)=\\frac{b}{a\\theta}{\\rm d}(a\\theta)=a\\frac{b}{a\\theta}{\\rm d}(\\theta)=\\frac{b}{\\theta}{\\rm d}(\\theta)=p(\\theta){\\rm d}(\\theta)\n",
      "\\end{equation}\n",
      "\n",
      "What would the result be for our bus problem if we had chosen a flat prior instead of a scale invariant prior?\n",
      "\n",
      "\n",
      "Maximizng the entropy of the pdfs for your parameters is another way to pick out the least informative prior given some set of constraints you may want to apply.  The entropy is defined as:\n",
      "\n",
      "for the descrete case:\n",
      "\\begin{equation}\n",
      "S=\\sum_{i=1}^N p_i \\ln(p_i)\n",
      "\\end{equation}\n",
      "\n",
      "for the continuous case:\n",
      "\\begin{equation}\n",
      "S=-\\int_{-\\infty}^{\\infty} p(x) \\ln\\left(\\frac{p(x)}{m(x)}\\right){\\rm d}x\n",
      "\\end{equation}\n",
      "\n",
      "The example used in the book for the descrete case is assigning priors to outcomes of rolling a six sided die.  So, we need six probabilities, $p_i$.  If we know absolutly nothing about this six sided die, my new favorite term, the principle of indifference, states we should assign each face a probability of $1/6$.  However, if we have additional information, it may become less clear how to assign the $p_i$.  For example, if we know that the mean value of rolling the dice many times is $\\mu$, how do we assign the $p_i$?  First, we need to write out our constraints.\n",
      "\n",
      "you must have at least one outcome:\n",
      "\\begin{equation}\n",
      "\\sum_{i=1}^{6}p_i=1\n",
      "\\end{equation}\n",
      "\n",
      "and the mean outcome is:\n",
      "\\begin{equation}\n",
      "\\sum_{i=1}^{6}ip_i=\\mu\n",
      "\\end{equation}\n",
      "\n",
      "If you remmeber anything about Lagrange multipliers, you know you can maximize $S$ by minimizing Q, where:\n",
      "\n",
      "\\begin{equation}\n",
      "Q=S + \\lambda_0(1-\\sum_{i=1}^{6}p_i) + \\lambda_1(\\mu-\\sum_{i=1}^{6}ip_i)\n",
      "\\end{equation}\n",
      "\n",
      "***\n",
      "A side note on Lagrange multipliers(I had to wikipedia it).  If you want to maximize a function, $f(x,y)$, subject to a constraint, $g(x,y)=c$, you need to maximize $\\Lambda(x,y,\\lambda)$ where\n",
      "\n",
      "\\begin{equation}\n",
      "\\Lambda(x,y,\\lambda) = f(x,y)+\\lambda(g(x,y)-c)\n",
      "\\end{equation}\n",
      "***\n",
      "\n",
      "out of nowhere the entropy becomes:\n",
      "\n",
      "\\begin{equation}\n",
      "S=\\sum_{i=1}^N p_i \\ln\\left(\\frac{p_i}{m_i}\\right),\n",
      "\\end{equation}\n",
      "\n",
      "where $m_i=1/6$ are the uninformative priors we had would choose without any additional inforamtion.  Does anyone understand how these got in there?  Should they have been there all along?\n",
      "\n",
      "Anyway, if you maximize the equation above you get:\n",
      "\n",
      "\\begin{equation}\n",
      "p_i=m_i\\exp(-1-\\lambda_0)\\exp(-i\\lambda_1)\n",
      "\\end{equation}\n",
      "\n",
      "where we can close the equations using our constraints from eariler.\n",
      "\n",
      "Another interesting tidbit, you can quantify how much information you gain between the prior and the posterior using the Kullback-Leibler(KL) divergence from $p(x)\\rightarrow m(x)$.\n",
      "\n",
      "\\begin{equation}\n",
      "KL = -S = \\sum_{i=1}^N p_i \\ln\\left(\\frac{p_i}{m_i}\\right)\n",
      "\\end{equation}\n",
      "\n",
      "This will aprrantly be discussed in a later chapter.  But, now I don't exactly know what $m$ is..."
     ]
    },
    {
     "cell_type": "heading",
     "level": 2,
     "metadata": {},
     "source": [
      "5.3: Bayesian Parameter Uncertainty Quantification"
     ]
    },
    {
     "cell_type": "markdown",
     "metadata": {},
     "source": [
      "The posterior pdf that you get out of the bayesian framework is treated like any other pdf.  You can define credibility regions by solving\n",
      "\n",
      "\\begin{equation}\n",
      "\\int_{-\\infty}^{a}f(\\theta){\\rm d}\\theta = \\int_{b}^{\\infty}f(\\theta){\\rm d}\\theta = \\alpha/2\n",
      "\\end{equation}\n",
      "\n",
      "Then, the probability that the true value of $\\theta$ is between $a$ and $b$ is given by $(1-\\alpha)$.\n",
      "\n",
      "Another useful thing about having a pdf for your model paramters, is that you can integrate over the uninteresting ones to get marginalized pdfs for the interesting variables.    "
     ]
    },
    {
     "cell_type": "code",
     "collapsed": false,
     "input": [],
     "language": "python",
     "metadata": {},
     "outputs": []
    }
   ],
   "metadata": {}
  }
 ]
}